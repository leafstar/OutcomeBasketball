{
 "cells": [
  {
   "cell_type": "code",
   "execution_count": 13,
   "id": "af05cef9-cdbc-4184-a32a-5cae277b3c12",
   "metadata": {},
   "outputs": [],
   "source": [
    "import numpy as np\n",
    "import pandas as pd"
   ]
  },
  {
   "cell_type": "code",
   "execution_count": 14,
   "id": "1ecace9c-eec0-45d4-933b-612f51712593",
   "metadata": {},
   "outputs": [
    {
     "name": "stderr",
     "output_type": "stream",
     "text": [
      "C:\\Users\\95422\\anaconda3\\lib\\site-packages\\IPython\\core\\interactiveshell.py:3361: DtypeWarning: Columns (6) have mixed types.Specify dtype option on import or set low_memory=False.\n",
      "  exec(code_obj, self.user_global_ns, self.user_ns)\n"
     ]
    }
   ],
   "source": [
    "path = './nba_data'\n",
    "games = pd.read_csv(path + '/games.csv')\n",
    "games_details = pd.read_csv(path + '/games_details.csv')\n",
    "players = pd.read_csv(path + '/players.csv')\n",
    "rankings = pd.read_csv(path + '/ranking.csv')\n",
    "teams = pd.read_csv(path + '/teams.csv')"
   ]
  },
  {
   "cell_type": "markdown",
   "id": "9d770b88-7e9e-40ed-95ec-48f355bf217e",
   "metadata": {},
   "source": [
    "game status are all the same, therefore no need to keep this feature."
   ]
  },
  {
   "cell_type": "code",
   "execution_count": 15,
   "id": "5f49001e-0e74-4909-80bf-50ce2af8f27f",
   "metadata": {},
   "outputs": [],
   "source": [
    "games.drop(['GAME_STATUS_TEXT'],axis=1,inplace = True)"
   ]
  },
  {
   "cell_type": "markdown",
   "id": "7776a5ef-23ef-4fc7-a157-ed92eeb39be7",
   "metadata": {},
   "source": [
    "HOME_TEAM_ID is exactly the same as TEAM_ID_home, thus we drop it.\n",
    "\n",
    "so does VISITOR_TEAM_ID and TEAM_ID_away"
   ]
  },
  {
   "cell_type": "code",
   "execution_count": 16,
   "id": "09709bfe-4dc0-463b-8f9f-f19b7bd8d235",
   "metadata": {},
   "outputs": [],
   "source": [
    "games.drop([\"HOME_TEAM_ID\"],axis = 1,inplace = True)"
   ]
  },
  {
   "cell_type": "code",
   "execution_count": 17,
   "id": "d3dd150b-1dc5-44fc-8353-8f18acbd5ea4",
   "metadata": {},
   "outputs": [],
   "source": [
    "games.drop([\"VISITOR_TEAM_ID\"], axis = 1, inplace = True)"
   ]
  },
  {
   "cell_type": "code",
   "execution_count": 18,
   "id": "e9688769-45ac-4974-9354-3d3de32446dc",
   "metadata": {},
   "outputs": [],
   "source": [
    "teams.drop([\"LEAGUE_ID\", \"MIN_YEAR\", \"MAX_YEAR\", \"ABBREVIATION\", \"YEARFOUNDED\", \"CITY\", \"ARENA\", \"ARENACAPACITY\", \"OWNER\", \"GENERALMANAGER\", \"DLEAGUEAFFILIATION\"], axis = 1, inplace = True)"
   ]
  },
  {
   "cell_type": "code",
   "execution_count": 19,
   "id": "00edd286-231b-426c-8748-1f13f62311e6",
   "metadata": {},
   "outputs": [],
   "source": [
    "df_after_merge_home = pd.merge(games, teams, left_on = \"TEAM_ID_home\", right_on='TEAM_ID', how='left')\n",
    "df_after_merge_home.rename(columns={\"NICKNAME\": \"NAME_HOME\", \"HEADCOACH\": \"COACH_HOME\"}, inplace = True)\n",
    "df_after_merge_away = pd.merge(df_after_merge_home, teams, left_on = \"TEAM_ID_away\", right_on='TEAM_ID', how='left')\n",
    "df_after_merge_away.rename(columns={\"NICKNAME\": \"NAME_AWAY\", \"HEADCOACH\": \"COACH_AWAY\"}, inplace = True)"
   ]
  },
  {
   "cell_type": "code",
   "execution_count": 23,
   "id": "f6b20949-5415-48dc-bc19-6842d31aa758",
   "metadata": {},
   "outputs": [
    {
     "data": {
      "text/plain": [
       "{True}"
      ]
     },
     "execution_count": 23,
     "metadata": {},
     "output_type": "execute_result"
    }
   ],
   "source": [
    "set(df_after_merge_away[\"TEAM_ID_x\"] == df_after_merge_away[\"TEAM_ID_home\"])"
   ]
  },
  {
   "cell_type": "code",
   "execution_count": 24,
   "id": "335e6c99-2b00-4634-8a73-1881c0ccce03",
   "metadata": {},
   "outputs": [
    {
     "data": {
      "text/plain": [
       "{True}"
      ]
     },
     "execution_count": 24,
     "metadata": {},
     "output_type": "execute_result"
    }
   ],
   "source": [
    "set(df_after_merge_away[\"TEAM_ID_y\"] == df_after_merge_away[\"TEAM_ID_away\"])"
   ]
  },
  {
   "cell_type": "code",
   "execution_count": 25,
   "id": "32ebef9d-4fcc-43d9-a0e7-36789213aaee",
   "metadata": {},
   "outputs": [],
   "source": [
    "df_after_merge_away.drop([\"TEAM_ID_x\",\"TEAM_ID_y\"],axis = 1,inplace = True)"
   ]
  },
  {
   "cell_type": "code",
   "execution_count": 26,
   "id": "185d3ca5-37ed-4b4a-8ed5-a4820b0878c7",
   "metadata": {},
   "outputs": [
    {
     "data": {
      "text/html": [
       "<div>\n",
       "<style scoped>\n",
       "    .dataframe tbody tr th:only-of-type {\n",
       "        vertical-align: middle;\n",
       "    }\n",
       "\n",
       "    .dataframe tbody tr th {\n",
       "        vertical-align: top;\n",
       "    }\n",
       "\n",
       "    .dataframe thead th {\n",
       "        text-align: right;\n",
       "    }\n",
       "</style>\n",
       "<table border=\"1\" class=\"dataframe\">\n",
       "  <thead>\n",
       "    <tr style=\"text-align: right;\">\n",
       "      <th></th>\n",
       "      <th>GAME_DATE_EST</th>\n",
       "      <th>GAME_ID</th>\n",
       "      <th>SEASON</th>\n",
       "      <th>TEAM_ID_home</th>\n",
       "      <th>PTS_home</th>\n",
       "      <th>FG_PCT_home</th>\n",
       "      <th>FT_PCT_home</th>\n",
       "      <th>FG3_PCT_home</th>\n",
       "      <th>AST_home</th>\n",
       "      <th>REB_home</th>\n",
       "      <th>...</th>\n",
       "      <th>FG_PCT_away</th>\n",
       "      <th>FT_PCT_away</th>\n",
       "      <th>FG3_PCT_away</th>\n",
       "      <th>AST_away</th>\n",
       "      <th>REB_away</th>\n",
       "      <th>HOME_TEAM_WINS</th>\n",
       "      <th>NAME_HOME</th>\n",
       "      <th>COACH_HOME</th>\n",
       "      <th>NAME_AWAY</th>\n",
       "      <th>COACH_AWAY</th>\n",
       "    </tr>\n",
       "  </thead>\n",
       "  <tbody>\n",
       "    <tr>\n",
       "      <th>0</th>\n",
       "      <td>3/12/2022</td>\n",
       "      <td>22101005</td>\n",
       "      <td>2021</td>\n",
       "      <td>1610612748</td>\n",
       "      <td>104.0</td>\n",
       "      <td>0.398</td>\n",
       "      <td>0.760</td>\n",
       "      <td>0.333</td>\n",
       "      <td>23.0</td>\n",
       "      <td>53.0</td>\n",
       "      <td>...</td>\n",
       "      <td>0.422</td>\n",
       "      <td>0.875</td>\n",
       "      <td>0.357</td>\n",
       "      <td>21.0</td>\n",
       "      <td>46.0</td>\n",
       "      <td>0</td>\n",
       "      <td>Heat</td>\n",
       "      <td>Erik Spoelstra</td>\n",
       "      <td>Timberwolves</td>\n",
       "      <td>Ryan Saunders</td>\n",
       "    </tr>\n",
       "    <tr>\n",
       "      <th>1</th>\n",
       "      <td>3/12/2022</td>\n",
       "      <td>22101006</td>\n",
       "      <td>2021</td>\n",
       "      <td>1610612741</td>\n",
       "      <td>101.0</td>\n",
       "      <td>0.443</td>\n",
       "      <td>0.933</td>\n",
       "      <td>0.429</td>\n",
       "      <td>20.0</td>\n",
       "      <td>46.0</td>\n",
       "      <td>...</td>\n",
       "      <td>0.419</td>\n",
       "      <td>0.824</td>\n",
       "      <td>0.208</td>\n",
       "      <td>19.0</td>\n",
       "      <td>40.0</td>\n",
       "      <td>1</td>\n",
       "      <td>Bulls</td>\n",
       "      <td>Jim Boylen</td>\n",
       "      <td>Cavaliers</td>\n",
       "      <td>John Beilein</td>\n",
       "    </tr>\n",
       "    <tr>\n",
       "      <th>2</th>\n",
       "      <td>3/12/2022</td>\n",
       "      <td>22101007</td>\n",
       "      <td>2021</td>\n",
       "      <td>1610612759</td>\n",
       "      <td>108.0</td>\n",
       "      <td>0.412</td>\n",
       "      <td>0.813</td>\n",
       "      <td>0.324</td>\n",
       "      <td>28.0</td>\n",
       "      <td>52.0</td>\n",
       "      <td>...</td>\n",
       "      <td>0.489</td>\n",
       "      <td>1.000</td>\n",
       "      <td>0.389</td>\n",
       "      <td>23.0</td>\n",
       "      <td>47.0</td>\n",
       "      <td>0</td>\n",
       "      <td>Spurs</td>\n",
       "      <td>Gregg Popovich</td>\n",
       "      <td>Pacers</td>\n",
       "      <td>Nate McMillan</td>\n",
       "    </tr>\n",
       "    <tr>\n",
       "      <th>3</th>\n",
       "      <td>3/12/2022</td>\n",
       "      <td>22101008</td>\n",
       "      <td>2021</td>\n",
       "      <td>1610612744</td>\n",
       "      <td>122.0</td>\n",
       "      <td>0.484</td>\n",
       "      <td>0.933</td>\n",
       "      <td>0.400</td>\n",
       "      <td>33.0</td>\n",
       "      <td>55.0</td>\n",
       "      <td>...</td>\n",
       "      <td>0.413</td>\n",
       "      <td>0.696</td>\n",
       "      <td>0.386</td>\n",
       "      <td>27.0</td>\n",
       "      <td>39.0</td>\n",
       "      <td>1</td>\n",
       "      <td>Warriors</td>\n",
       "      <td>Steve Kerr</td>\n",
       "      <td>Bucks</td>\n",
       "      <td>Mike Budenholzer</td>\n",
       "    </tr>\n",
       "    <tr>\n",
       "      <th>4</th>\n",
       "      <td>3/12/2022</td>\n",
       "      <td>22101009</td>\n",
       "      <td>2021</td>\n",
       "      <td>1610612743</td>\n",
       "      <td>115.0</td>\n",
       "      <td>0.551</td>\n",
       "      <td>0.750</td>\n",
       "      <td>0.407</td>\n",
       "      <td>32.0</td>\n",
       "      <td>39.0</td>\n",
       "      <td>...</td>\n",
       "      <td>0.471</td>\n",
       "      <td>0.760</td>\n",
       "      <td>0.387</td>\n",
       "      <td>28.0</td>\n",
       "      <td>50.0</td>\n",
       "      <td>0</td>\n",
       "      <td>Nuggets</td>\n",
       "      <td>Michael Malone</td>\n",
       "      <td>Raptors</td>\n",
       "      <td>Nick Nurse</td>\n",
       "    </tr>\n",
       "    <tr>\n",
       "      <th>...</th>\n",
       "      <td>...</td>\n",
       "      <td>...</td>\n",
       "      <td>...</td>\n",
       "      <td>...</td>\n",
       "      <td>...</td>\n",
       "      <td>...</td>\n",
       "      <td>...</td>\n",
       "      <td>...</td>\n",
       "      <td>...</td>\n",
       "      <td>...</td>\n",
       "      <td>...</td>\n",
       "      <td>...</td>\n",
       "      <td>...</td>\n",
       "      <td>...</td>\n",
       "      <td>...</td>\n",
       "      <td>...</td>\n",
       "      <td>...</td>\n",
       "      <td>...</td>\n",
       "      <td>...</td>\n",
       "      <td>...</td>\n",
       "      <td>...</td>\n",
       "    </tr>\n",
       "    <tr>\n",
       "      <th>25791</th>\n",
       "      <td>10/6/2014</td>\n",
       "      <td>11400007</td>\n",
       "      <td>2014</td>\n",
       "      <td>1610612737</td>\n",
       "      <td>93.0</td>\n",
       "      <td>0.419</td>\n",
       "      <td>0.821</td>\n",
       "      <td>0.421</td>\n",
       "      <td>24.0</td>\n",
       "      <td>50.0</td>\n",
       "      <td>...</td>\n",
       "      <td>0.366</td>\n",
       "      <td>0.643</td>\n",
       "      <td>0.375</td>\n",
       "      <td>17.0</td>\n",
       "      <td>43.0</td>\n",
       "      <td>1</td>\n",
       "      <td>Hawks</td>\n",
       "      <td>Lloyd Pierce</td>\n",
       "      <td>Pelicans</td>\n",
       "      <td>Alvin Gentry</td>\n",
       "    </tr>\n",
       "    <tr>\n",
       "      <th>25792</th>\n",
       "      <td>10/6/2014</td>\n",
       "      <td>11400004</td>\n",
       "      <td>2014</td>\n",
       "      <td>1610612741</td>\n",
       "      <td>81.0</td>\n",
       "      <td>0.338</td>\n",
       "      <td>0.719</td>\n",
       "      <td>0.381</td>\n",
       "      <td>18.0</td>\n",
       "      <td>40.0</td>\n",
       "      <td>...</td>\n",
       "      <td>0.411</td>\n",
       "      <td>0.636</td>\n",
       "      <td>0.267</td>\n",
       "      <td>17.0</td>\n",
       "      <td>47.0</td>\n",
       "      <td>0</td>\n",
       "      <td>Bulls</td>\n",
       "      <td>Jim Boylen</td>\n",
       "      <td>Wizards</td>\n",
       "      <td>Scott Brooks</td>\n",
       "    </tr>\n",
       "    <tr>\n",
       "      <th>25793</th>\n",
       "      <td>10/6/2014</td>\n",
       "      <td>11400005</td>\n",
       "      <td>2014</td>\n",
       "      <td>1610612747</td>\n",
       "      <td>98.0</td>\n",
       "      <td>0.448</td>\n",
       "      <td>0.682</td>\n",
       "      <td>0.500</td>\n",
       "      <td>29.0</td>\n",
       "      <td>45.0</td>\n",
       "      <td>...</td>\n",
       "      <td>0.387</td>\n",
       "      <td>0.659</td>\n",
       "      <td>0.500</td>\n",
       "      <td>19.0</td>\n",
       "      <td>43.0</td>\n",
       "      <td>1</td>\n",
       "      <td>Lakers</td>\n",
       "      <td>Frank Vogel</td>\n",
       "      <td>Nuggets</td>\n",
       "      <td>Michael Malone</td>\n",
       "    </tr>\n",
       "    <tr>\n",
       "      <th>25794</th>\n",
       "      <td>10/5/2014</td>\n",
       "      <td>11400002</td>\n",
       "      <td>2014</td>\n",
       "      <td>1610612761</td>\n",
       "      <td>99.0</td>\n",
       "      <td>0.440</td>\n",
       "      <td>0.771</td>\n",
       "      <td>0.333</td>\n",
       "      <td>21.0</td>\n",
       "      <td>30.0</td>\n",
       "      <td>...</td>\n",
       "      <td>0.469</td>\n",
       "      <td>0.725</td>\n",
       "      <td>0.385</td>\n",
       "      <td>18.0</td>\n",
       "      <td>45.0</td>\n",
       "      <td>1</td>\n",
       "      <td>Raptors</td>\n",
       "      <td>Nick Nurse</td>\n",
       "      <td>Kings</td>\n",
       "      <td>Luke Walton</td>\n",
       "    </tr>\n",
       "    <tr>\n",
       "      <th>25795</th>\n",
       "      <td>10/4/2014</td>\n",
       "      <td>11400001</td>\n",
       "      <td>2014</td>\n",
       "      <td>1610612748</td>\n",
       "      <td>86.0</td>\n",
       "      <td>0.431</td>\n",
       "      <td>0.679</td>\n",
       "      <td>0.333</td>\n",
       "      <td>18.0</td>\n",
       "      <td>42.0</td>\n",
       "      <td>...</td>\n",
       "      <td>0.462</td>\n",
       "      <td>0.706</td>\n",
       "      <td>0.438</td>\n",
       "      <td>19.0</td>\n",
       "      <td>42.0</td>\n",
       "      <td>0</td>\n",
       "      <td>Heat</td>\n",
       "      <td>Erik Spoelstra</td>\n",
       "      <td>Pelicans</td>\n",
       "      <td>Alvin Gentry</td>\n",
       "    </tr>\n",
       "  </tbody>\n",
       "</table>\n",
       "<p>25796 rows × 22 columns</p>\n",
       "</div>"
      ],
      "text/plain": [
       "      GAME_DATE_EST   GAME_ID  SEASON  TEAM_ID_home  PTS_home  FG_PCT_home  \\\n",
       "0         3/12/2022  22101005    2021    1610612748     104.0        0.398   \n",
       "1         3/12/2022  22101006    2021    1610612741     101.0        0.443   \n",
       "2         3/12/2022  22101007    2021    1610612759     108.0        0.412   \n",
       "3         3/12/2022  22101008    2021    1610612744     122.0        0.484   \n",
       "4         3/12/2022  22101009    2021    1610612743     115.0        0.551   \n",
       "...             ...       ...     ...           ...       ...          ...   \n",
       "25791     10/6/2014  11400007    2014    1610612737      93.0        0.419   \n",
       "25792     10/6/2014  11400004    2014    1610612741      81.0        0.338   \n",
       "25793     10/6/2014  11400005    2014    1610612747      98.0        0.448   \n",
       "25794     10/5/2014  11400002    2014    1610612761      99.0        0.440   \n",
       "25795     10/4/2014  11400001    2014    1610612748      86.0        0.431   \n",
       "\n",
       "       FT_PCT_home  FG3_PCT_home  AST_home  REB_home  ...  FG_PCT_away  \\\n",
       "0            0.760         0.333      23.0      53.0  ...        0.422   \n",
       "1            0.933         0.429      20.0      46.0  ...        0.419   \n",
       "2            0.813         0.324      28.0      52.0  ...        0.489   \n",
       "3            0.933         0.400      33.0      55.0  ...        0.413   \n",
       "4            0.750         0.407      32.0      39.0  ...        0.471   \n",
       "...            ...           ...       ...       ...  ...          ...   \n",
       "25791        0.821         0.421      24.0      50.0  ...        0.366   \n",
       "25792        0.719         0.381      18.0      40.0  ...        0.411   \n",
       "25793        0.682         0.500      29.0      45.0  ...        0.387   \n",
       "25794        0.771         0.333      21.0      30.0  ...        0.469   \n",
       "25795        0.679         0.333      18.0      42.0  ...        0.462   \n",
       "\n",
       "       FT_PCT_away  FG3_PCT_away  AST_away  REB_away  HOME_TEAM_WINS  \\\n",
       "0            0.875         0.357      21.0      46.0               0   \n",
       "1            0.824         0.208      19.0      40.0               1   \n",
       "2            1.000         0.389      23.0      47.0               0   \n",
       "3            0.696         0.386      27.0      39.0               1   \n",
       "4            0.760         0.387      28.0      50.0               0   \n",
       "...            ...           ...       ...       ...             ...   \n",
       "25791        0.643         0.375      17.0      43.0               1   \n",
       "25792        0.636         0.267      17.0      47.0               0   \n",
       "25793        0.659         0.500      19.0      43.0               1   \n",
       "25794        0.725         0.385      18.0      45.0               1   \n",
       "25795        0.706         0.438      19.0      42.0               0   \n",
       "\n",
       "       NAME_HOME      COACH_HOME     NAME_AWAY        COACH_AWAY  \n",
       "0           Heat  Erik Spoelstra  Timberwolves     Ryan Saunders  \n",
       "1          Bulls      Jim Boylen     Cavaliers      John Beilein  \n",
       "2          Spurs  Gregg Popovich        Pacers     Nate McMillan  \n",
       "3       Warriors      Steve Kerr         Bucks  Mike Budenholzer  \n",
       "4        Nuggets  Michael Malone       Raptors        Nick Nurse  \n",
       "...          ...             ...           ...               ...  \n",
       "25791      Hawks    Lloyd Pierce      Pelicans      Alvin Gentry  \n",
       "25792      Bulls      Jim Boylen       Wizards      Scott Brooks  \n",
       "25793     Lakers     Frank Vogel       Nuggets    Michael Malone  \n",
       "25794    Raptors      Nick Nurse         Kings       Luke Walton  \n",
       "25795       Heat  Erik Spoelstra      Pelicans      Alvin Gentry  \n",
       "\n",
       "[25796 rows x 22 columns]"
      ]
     },
     "execution_count": 26,
     "metadata": {},
     "output_type": "execute_result"
    }
   ],
   "source": [
    "df_after_merge_away"
   ]
  },
  {
   "cell_type": "markdown",
   "id": "0f8569a9-7b57-4478-87d0-45c51887b3bd",
   "metadata": {},
   "source": [
    "df_after_merge_away contains nicknames and head coaches' names for both teams."
   ]
  },
  {
   "cell_type": "code",
   "execution_count": 28,
   "id": "21c0ae3e-c327-4d89-9c97-f41deaeb7731",
   "metadata": {},
   "outputs": [],
   "source": [
    "import os  \n",
    "os.makedirs('newdat', exist_ok=True)  \n",
    "df_after_merge_away.to_csv('newdat/games_v1.csv')"
   ]
  },
  {
   "cell_type": "code",
   "execution_count": 31,
   "id": "6d36b1bc-d881-4b46-82d8-79979b87d3d9",
   "metadata": {},
   "outputs": [],
   "source": [
    "season = 2021\n",
    "games2021 = df_after_merge_away[df_after_merge_away['SEASON'] == season]"
   ]
  },
  {
   "cell_type": "code",
   "execution_count": 32,
   "id": "af5a4903-a2b0-4ccb-870c-2c9769d5a6ec",
   "metadata": {},
   "outputs": [],
   "source": [
    "#games2021.to_csv('newdat/games2021_v1.csv')"
   ]
  },
  {
   "cell_type": "code",
   "execution_count": 59,
   "id": "e63f6317-d7c6-4ec5-b15c-13637a01a46a",
   "metadata": {},
   "outputs": [],
   "source": [
    "## use a dictionary to count the round number\n",
    "round_dict = {}\n",
    "for ele in set(games2021['NAME_HOME']):\n",
    "    round_dict[ele] = 0"
   ]
  },
  {
   "cell_type": "code",
   "execution_count": null,
   "id": "db7e4162-2c65-4605-a83c-6ce680865d2b",
   "metadata": {},
   "outputs": [],
   "source": [
    "games2021['round_number_home'] = 0\n",
    "games2021['round_number_away'] = 0"
   ]
  },
  {
   "cell_type": "code",
   "execution_count": 67,
   "id": "5ba3f30a-fbc8-4b04-8855-5ec1b6a2666b",
   "metadata": {},
   "outputs": [],
   "source": [
    "## add round numbers for each team to the dataset.\n",
    "\n",
    "for row in games2021[::-1].itertuples():\n",
    "    home_team = row.NAME_HOME\n",
    "    games2021.at[row.Index, 'round_number_home'] = round_dict[home_team] + 1\n",
    "    round_dict[home_team] += 1\n",
    "    \n",
    "    away_team = row.NAME_AWAY\n",
    "    games2021.at[row.Index, 'round_number_away'] = round_dict[away_team] + 1\n",
    "    round_dict[away_team] += 1"
   ]
  },
  {
   "cell_type": "code",
   "execution_count": null,
   "id": "c503795c-ed1b-4243-9968-4dcab2ee0060",
   "metadata": {},
   "outputs": [],
   "source": [
    "games2021"
   ]
  },
  {
   "cell_type": "markdown",
   "id": "e0ef9d30-6374-4619-8b13-f00ac9b72521",
   "metadata": {},
   "source": [
    "## Adding Features"
   ]
  },
  {
   "cell_type": "code",
   "execution_count": null,
   "id": "4efd731e-d63b-4304-9e58-c652dfeba46a",
   "metadata": {},
   "outputs": [],
   "source": [
    "# PTS_home_cur_season, FG_PCT_home_cur_season, FT_PCT_home_cur_season, \n",
    "# FG3_PCT_home_cur_season, AST_home_cur_season, REB_home_cur_season \n",
    "games2021['PTS_home_cur_season'] = 0.0\n",
    "games2021['FG_PCT_home_cur_season'] = 0.0\n",
    "games2021['FT_PCT_home_cur_season'] = 0.0\n",
    "games2021['FG3_PCT_home_cur_season'] = 0.0\n",
    "games2021['AST_home_cur_season'] = 0.0\n",
    "games2021['REB_home_cur_season'] = 0.0\n",
    "games2021['WINRATE_home_cur_season'] = 0.0\n",
    "games2021['PTS_LOST_home_cur_season'] = 0.0\n",
    "\n",
    "games2021['PTS_away_cur_season'] = 0.0\n",
    "games2021['FG_PCT_away_cur_season'] = 0.0\n",
    "games2021['FT_PCT_away_cur_season'] = 0.0\n",
    "games2021['FG3_PCT_away_cur_season'] = 0.0\n",
    "games2021['AST_away_cur_season'] = 0.0\n",
    "games2021['REB_away_cur_season'] = 0.0\n",
    "games2021['WINRATE_away_cur_season'] = 0.0\n",
    "games2021['PTS_LOST_away_cur_season'] = 0.0"
   ]
  },
  {
   "cell_type": "code",
   "execution_count": 226,
   "id": "01e662c4-b612-460e-bac0-12fac60d18a5",
   "metadata": {},
   "outputs": [],
   "source": [
    "for row in games2021[::-1].itertuples():\n",
    "    round_home = row.round_number_home ## round number for home team\n",
    "    round_away = row.round_number_away ## round number for away team\n",
    "    if round_home == 1 and round_away == 1:\n",
    "         continue\n",
    "    else:\n",
    "        ## pts for home team\n",
    "        if round_home > 1:\n",
    "            last_match_home = games2021[ ((games2021['round_number_home'] == round_home - 1)  & (games2021['NAME_HOME'] == row.NAME_HOME)) | \n",
    "                                       ((games2021['round_number_away'] == round_home - 1)  & (games2021['NAME_AWAY'] == row.NAME_HOME))]\n",
    "            ## if name_home on this row is the target team, we use home stats for calculating the features\n",
    "            if last_match_home['NAME_HOME'].values[0] == row.NAME_HOME: \n",
    "                ### avg pts for previous games\n",
    "                games2021.at[row.Index, 'PTS_home_cur_season'] = (last_match_home['PTS_home_cur_season'].values[0] * (round_home - 2) \n",
    "                                                              + last_match_home['PTS_home'].values[0]) / (round_home - 1)\n",
    "                games2021.at[row.Index, 'PTS_LOST_home_cur_season'] = (last_match_home['PTS_LOST_home_cur_season'].values[0] * (round_home - 2) \n",
    "                                                              + last_match_home['PTS_away'].values[0]) / (round_home - 1)\n",
    "                ### avg fg_pct for previous games\n",
    "                games2021.at[row.Index, 'FG_PCT_home_cur_season'] = (last_match_home['FG_PCT_home_cur_season'].values[0] * (round_home - 2) \n",
    "                                                              + last_match_home['FG_PCT_home'].values[0]) / (round_home - 1)\n",
    "                ### avg ft_pct for ptrvious games\n",
    "                games2021.at[row.Index, 'FT_PCT_home_cur_season'] = (last_match_home['FT_PCT_home_cur_season'].values[0] * (round_home - 2) \n",
    "                                                              + last_match_home['FT_PCT_home'].values[0]) / (round_home - 1)\n",
    "                ### avg FG3_PCT_home_cur_season\n",
    "                games2021.at[row.Index, 'FG3_PCT_home_cur_season'] = (last_match_home['FG3_PCT_home_cur_season'].values[0] * (round_home - 2) \n",
    "                                                              + last_match_home['FG3_PCT_home'].values[0]) / (round_home - 1)\n",
    "                ### avg AST_home_cur_season\n",
    "                games2021.at[row.Index, 'AST_home_cur_season'] = (last_match_home['AST_home_cur_season'].values[0] * (round_home - 2) \n",
    "                                                              + last_match_home['AST_home'].values[0]) / (round_home - 1)\n",
    "                ### avg REB_home_cur_season \n",
    "                games2021.at[row.Index, 'REB_home_cur_season'] = (last_match_home['REB_home_cur_season'].values[0] * (round_home - 2) \n",
    "                                                              + last_match_home['REB_home'].values[0]) / (round_home - 1)\n",
    "                \n",
    "                games2021.at[row.Index, 'WINRATE_home_cur_season'] = (last_match_home['WINRATE_home_cur_season'].values[0] * (round_home - 2) \n",
    "                                                              + last_match_home['HOME_TEAM_WINS'].values[0]) / (round_home - 1)\n",
    "\n",
    "            else: ## else, we use away team stats for calculation\n",
    "                games2021.at[row.Index, 'PTS_home_cur_season'] = (last_match_home['PTS_away_cur_season'].values[0] * (round_home - 2) \n",
    "                                                              + last_match_home['PTS_away'].values[0]) / (round_home - 1)\n",
    "                games2021.at[row.Index, 'PTS_LOST_home_cur_season'] = (last_match_home['PTS_LOST_away_cur_season'].values[0] * (round_home - 2) \n",
    "                                                              + last_match_home['PTS_home'].values[0]) / (round_home - 1)\n",
    "                games2021.at[row.Index, 'FG_PCT_home_cur_season'] = (last_match_home['FG_PCT_away_cur_season'].values[0] * (round_home - 2) \n",
    "                                                              + last_match_home['FG_PCT_away'].values[0]) / (round_home - 1)\n",
    "                games2021.at[row.Index, 'FT_PCT_home_cur_season'] = (last_match_home['FT_PCT_away_cur_season'].values[0] * (round_home - 2) \n",
    "                                                              + last_match_home['FT_PCT_away'].values[0]) / (round_home - 1)\n",
    "                games2021.at[row.Index, 'FG3_PCT_home_cur_season'] = (last_match_home['FG3_PCT_away_cur_season'].values[0] * (round_home - 2) \n",
    "                                                              + last_match_home['FG3_PCT_away'].values[0]) / (round_home - 1)\n",
    "                games2021.at[row.Index, 'AST_home_cur_season'] = (last_match_home['AST_away_cur_season'].values[0] * (round_home - 2) \n",
    "                                                              + last_match_home['AST_away'].values[0]) / (round_home - 1)\n",
    "                games2021.at[row.Index, 'REB_home_cur_season'] = (last_match_home['REB_away_cur_season'].values[0] * (round_home - 2) \n",
    "                                                              + last_match_home['REB_away'].values[0]) / (round_home - 1)\n",
    "                games2021.at[row.Index, 'WINRATE_home_cur_season'] = (last_match_home['WINRATE_away_cur_season'].values[0] * (round_home - 2) \n",
    "                                                              + (1-last_match_home['HOME_TEAM_WINS'].values[0])) / (round_home - 1)\n",
    "            \n",
    "        ## for away team\n",
    "        if round_away == 1: continue\n",
    "        last_match_away = games2021[ ((games2021['round_number_home'] == round_away - 1)  & (games2021['NAME_HOME'] == row.NAME_AWAY)) | \n",
    "                                   ((games2021['round_number_away'] == round_away - 1)  & (games2021['NAME_AWAY'] == row.NAME_AWAY))]\n",
    "        if last_match_away['NAME_HOME'].values[0] == row.NAME_AWAY:\n",
    "            ### avg pts for previous games\n",
    "            games2021.at[row.Index, 'PTS_away_cur_season'] = (last_match_away['PTS_home_cur_season'].values[0] * (round_away - 2) \n",
    "                                                          + last_match_away['PTS_home'].values[0]) / (round_away - 1)\n",
    "            games2021.at[row.Index, 'PTS_LOST_away_cur_season'] = (last_match_away['PTS_LOST_home_cur_season'].values[0] * (round_away - 2) \n",
    "                                                          + last_match_away['PTS_away'].values[0]) / (round_away - 1)\n",
    "            ### avg fg_pct for previous games\n",
    "            games2021.at[row.Index, 'FG_PCT_away_cur_season'] = (last_match_away['FG_PCT_home_cur_season'].values[0] * (round_away - 2) \n",
    "                                                          + last_match_away['FG_PCT_home'].values[0]) / (round_away - 1)\n",
    "            ### avg ft_pct for ptrvious games\n",
    "            games2021.at[row.Index, 'FT_PCT_away_cur_season'] = (last_match_away['FT_PCT_home_cur_season'].values[0] * (round_away - 2) \n",
    "                                                          + last_match_away['FT_PCT_home'].values[0]) / (round_away - 1)\n",
    "            ### avg FG3_PCT_home_cur_season\n",
    "            games2021.at[row.Index, 'FG3_PCT_away_cur_season'] = (last_match_away['FG3_PCT_home_cur_season'].values[0] * (round_away - 2) \n",
    "                                                          + last_match_away['FG3_PCT_home'].values[0]) / (round_away - 1)\n",
    "            ### avg AST_home_cur_season\n",
    "            games2021.at[row.Index, 'AST_away_cur_season'] = (last_match_away['AST_home_cur_season'].values[0] * (round_away - 2) \n",
    "                                                          + last_match_away['AST_home'].values[0]) / (round_away - 1)\n",
    "            ### avg REB_home_cur_season \n",
    "            games2021.at[row.Index, 'REB_away_cur_season'] = (last_match_away['REB_home_cur_season'].values[0] * (round_away - 2) \n",
    "                                                          + last_match_away['REB_home'].values[0]) / (round_away - 1)\n",
    "            games2021.at[row.Index, 'WINRATE_away_cur_season'] = (last_match_away['WINRATE_home_cur_season'].values[0] * (round_away - 2) \n",
    "                                                          + last_match_away['HOME_TEAM_WINS'].values[0]) / (round_away - 1)\n",
    "        else: \n",
    "            games2021.at[row.Index, 'PTS_away_cur_season'] = (last_match_away['PTS_away_cur_season'].values[0] * (round_away - 2) \n",
    "                                                          + last_match_away['PTS_away'].values[0]) / (round_away - 1)\n",
    "            games2021.at[row.Index, 'PTS_LOST_away_cur_season'] = (last_match_away['PTS_LOST_away_cur_season'].values[0] * (round_away - 2) \n",
    "                                                          + last_match_away['PTS_home'].values[0]) / (round_away - 1)\n",
    "            games2021.at[row.Index, 'PTS_away_cur_season'] = (last_match_away['PTS_away_cur_season'].values[0] * (round_away - 2) \n",
    "                                                          + last_match_away['PTS_away'].values[0]) / (round_away - 1)\n",
    "            games2021.at[row.Index, 'FG_PCT_away_cur_season'] = (last_match_away['FG_PCT_away_cur_season'].values[0] * (round_away - 2) \n",
    "                                                          + last_match_away['FG_PCT_away'].values[0]) / (round_away - 1)\n",
    "            games2021.at[row.Index, 'FT_PCT_away_cur_season'] = (last_match_away['FT_PCT_away_cur_season'].values[0] * (round_away - 2) \n",
    "                                                          + last_match_away['FT_PCT_away'].values[0]) / (round_away - 1)\n",
    "            games2021.at[row.Index, 'FG3_PCT_away_cur_season'] = (last_match_away['FG3_PCT_away_cur_season'].values[0] * (round_away - 2) \n",
    "                                                          + last_match_away['FG3_PCT_away'].values[0]) / (round_away - 1)\n",
    "            games2021.at[row.Index, 'AST_away_cur_season'] = (last_match_away['AST_away_cur_season'].values[0] * (round_away - 2) \n",
    "                                                          + last_match_away['AST_away'].values[0]) / (round_away - 1)\n",
    "            games2021.at[row.Index, 'REB_away_cur_season'] = (last_match_away['REB_away_cur_season'].values[0] * (round_away - 2) \n",
    "                                                          + last_match_away['REB_away'].values[0]) / (round_away - 1)\n",
    "            games2021.at[row.Index, 'WINRATE_away_cur_season'] = (last_match_away['WINRATE_away_cur_season'].values[0] * (round_away - 2) \n",
    "                                                          + (1-last_match_away['HOME_TEAM_WINS'].values[0])) / (round_away - 1)\n",
    "            \n",
    "            \n",
    "            \n",
    "            "
   ]
  },
  {
   "cell_type": "markdown",
   "id": "577ae615-59fc-42af-b033-8282e691fe2c",
   "metadata": {},
   "source": [
    "## Seasonal Features"
   ]
  },
  {
   "cell_type": "code",
   "execution_count": 244,
   "id": "0c30dc59-a904-47b8-ac37-1b75ee635699",
   "metadata": {},
   "outputs": [
    {
     "data": {
      "text/plain": [
       "{'Lakers': (7952.0, 72),\n",
       " 'Pistons': (7360.0, 71),\n",
       " 'Hornets': (8165.0, 72),\n",
       " 'Warriors': (8163.0, 73),\n",
       " 'Cavaliers': (7652.0, 72),\n",
       " 'Heat': (8215.0, 75),\n",
       " 'Wizards': (7586.0, 70),\n",
       " '76ers': (7500.0, 69),\n",
       " 'Clippers': (7793.0, 73),\n",
       " 'Timberwolves': (8366.0, 73),\n",
       " 'Nuggets': (8097.0, 73),\n",
       " 'Spurs': (8197.0, 73),\n",
       " 'Kings': (8059.0, 73),\n",
       " 'Trail Blazers': (7444.0, 70),\n",
       " 'Raptors': (7858.0, 72),\n",
       " 'Rockets': (7718.0, 71),\n",
       " 'Jazz': (8066.0, 71),\n",
       " 'Hawks': (7840.0, 70),\n",
       " 'Pelicans': (7625.0, 71),\n",
       " 'Nets': (7914.0, 71),\n",
       " 'Magic': (7461.0, 72),\n",
       " 'Grizzlies': (8410.0, 74),\n",
       " 'Bucks': (8333.0, 73),\n",
       " 'Suns': (8079.0, 71),\n",
       " 'Pacers': (7924.0, 72),\n",
       " 'Celtics': (7875.0, 72),\n",
       " 'Mavericks': (7628.0, 71),\n",
       " 'Knicks': (7562.0, 71),\n",
       " 'Bulls': (7995.0, 71),\n",
       " 'Thunder': (7175.0, 70)}"
      ]
     },
     "execution_count": 244,
     "metadata": {},
     "output_type": "execute_result"
    }
   ],
   "source": [
    "\n",
    "def get_seasonal_feature(season,feature):\n",
    "    games_season = df_after_merge_away[df_after_merge_away['SEASON'] == season]\n",
    "    feature_dict = {}\n",
    "    for ele in set(games_season['NAME_HOME']):\n",
    "        feature_dict[ele] = (0,0)\n",
    "    for index,row in games_season.iterrows():\n",
    "        #print(index,type(row))\n",
    "        team1 = row['NAME_HOME']\n",
    "        team2 = row['NAME_AWAY']\n",
    "        f1 = row[feature+'_home']\n",
    "        f2 = row[feature+'_away']\n",
    "        feature_dict[team1] = (feature_dict[team1][0]+f1, feature_dict[team1][1]+1)\n",
    "        feature_dict[team2] = (feature_dict[team2][0]+f2, feature_dict[team2][1]+1)\n",
    "        \n",
    "    return feature_dict\n",
    "get_seasonal_feature(2021, 'PTS')   "
   ]
  },
  {
   "cell_type": "code",
   "execution_count": 242,
   "id": "c7d7155d-f375-4a02-8c52-e5a748d17bbb",
   "metadata": {},
   "outputs": [
    {
     "data": {
      "text/plain": [
       "110.44444444444444"
      ]
     },
     "execution_count": 242,
     "metadata": {},
     "output_type": "execute_result"
    }
   ],
   "source": [
    "7952.0/72"
   ]
  },
  {
   "cell_type": "markdown",
   "id": "c407f1d7-f3bb-4243-90da-205add766e51",
   "metadata": {},
   "source": [
    "### For checking"
   ]
  },
  {
   "cell_type": "code",
   "execution_count": 247,
   "id": "731795aa-022e-47a1-a15b-5f45cd6001de",
   "metadata": {},
   "outputs": [
    {
     "data": {
      "text/plain": [
       "7952.0"
      ]
     },
     "execution_count": 247,
     "metadata": {},
     "output_type": "execute_result"
    }
   ],
   "source": [
    "score = 0\n",
    "lakers = games2021[(games2021['NAME_HOME'] == 'Lakers') | (games2021['NAME_AWAY'] == 'Lakers')]\n",
    "for index,row in lakers.iterrows():\n",
    "    if row['NAME_HOME'] == 'Lakers':\n",
    "        score += row['PTS_home']\n",
    "    elif row['NAME_AWAY'] == 'Lakers':\n",
    "        score += row['PTS_away']\n",
    "score"
   ]
  },
  {
   "cell_type": "code",
   "execution_count": 228,
   "id": "2f23e1ad-f621-4454-95cd-cde5ca07cfda",
   "metadata": {},
   "outputs": [],
   "source": [
    "#heatgames.to_csv('newdat/heatgames2021_v2.csv')\n",
    "games2021.to_csv('newdat/games2021_v2.csv')"
   ]
  },
  {
   "cell_type": "code",
   "execution_count": 229,
   "id": "15e814f8-6ebf-44c6-9090-ccf9537620ba",
   "metadata": {},
   "outputs": [],
   "source": [
    "def running_avg(team):\n",
    "    res = []\n",
    "    for row in games2021[::-1].itertuples():\n",
    "        if row.NAME_HOME == team:\n",
    "            score = row.HOME_TEAM_WINS   ## change this field to get a different field\n",
    "            res.append(score)\n",
    "        elif row.NAME_AWAY == team:\n",
    "            score = 1-row.HOME_TEAM_WINS\n",
    "            res.append(score)\n",
    "    s = pd.Series(res)\n",
    "    rr = s.cumsum() / pd.Series(np.arange(1, len(s)+1), s.index)\n",
    "    rrr = rr.tolist()\n",
    "    rrr.insert(0,0.0)\n",
    "    del rrr[-1]\n",
    "    return rrr\n",
    "def get_field(team):\n",
    "    res= []\n",
    "    for row in games2021[::-1].itertuples():\n",
    "        if row.NAME_HOME == team:\n",
    "            score = row.WINRATE_home_cur_season   ## change this field to get a different field\n",
    "            res.append(score)\n",
    "        elif row.NAME_AWAY == team:\n",
    "            score = row.WINRATE_away_cur_season   ## change this field to get a different field\n",
    "            res.append(score)\n",
    "    return res"
   ]
  },
  {
   "cell_type": "code",
   "execution_count": 230,
   "id": "92187269-67b2-4f00-8c5c-1c0ad5d2c64e",
   "metadata": {},
   "outputs": [
    {
     "data": {
      "text/plain": [
       "False"
      ]
     },
     "execution_count": 230,
     "metadata": {},
     "output_type": "execute_result"
    }
   ],
   "source": [
    "running_avg('Spurs')==get_field(\"Spurs\")"
   ]
  },
  {
   "cell_type": "code",
   "execution_count": null,
   "id": "01937c35-0ddb-4e98-9831-eab42d110ac5",
   "metadata": {},
   "outputs": [],
   "source": [
    "[running_avg('Spurs')[i] - get_field(\"Spurs\")[i] for i in range(len(running_avg('Spurs')))]"
   ]
  },
  {
   "cell_type": "code",
   "execution_count": null,
   "id": "e4ac293d-5583-4460-b48e-bd8170102c2d",
   "metadata": {},
   "outputs": [],
   "source": [
    "get_field(\"Spurs\")"
   ]
  },
  {
   "cell_type": "code",
   "execution_count": null,
   "id": "898f5969-0c26-42f0-9ff1-492c83a47bb9",
   "metadata": {},
   "outputs": [],
   "source": []
  }
 ],
 "metadata": {
  "kernelspec": {
   "display_name": "Python 3 (ipykernel)",
   "language": "python",
   "name": "python3"
  },
  "language_info": {
   "codemirror_mode": {
    "name": "ipython",
    "version": 3
   },
   "file_extension": ".py",
   "mimetype": "text/x-python",
   "name": "python",
   "nbconvert_exporter": "python",
   "pygments_lexer": "ipython3",
   "version": "3.9.7"
  }
 },
 "nbformat": 4,
 "nbformat_minor": 5
}
