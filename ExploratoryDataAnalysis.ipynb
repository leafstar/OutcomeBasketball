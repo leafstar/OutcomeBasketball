{
 "cells": [
  {
   "cell_type": "code",
   "execution_count": 4,
   "id": "41fdfb9e-e9f1-4902-a721-1379d3470436",
   "metadata": {},
   "outputs": [],
   "source": [
    "import pandas as pd\n",
    "path = 'newdat/games_with_type.csv'\n",
    "games_total = pd.read_csv(path)"
   ]
  },
  {
   "cell_type": "code",
   "execution_count": 12,
   "id": "677bce42-4b0a-4e95-b021-85aee41657ae",
   "metadata": {},
   "outputs": [],
   "source": [
    "teams = {}\n",
    "for team in set(games_total['NAME_HOME']):\n",
    "    teams[team] = (0,0)"
   ]
  },
  {
   "cell_type": "code",
   "execution_count": 15,
   "id": "0caf10ae-3f6b-4a64-afb6-0f8c9c3d4b15",
   "metadata": {},
   "outputs": [
    {
     "data": {
      "text/plain": [
       "0"
      ]
     },
     "execution_count": 15,
     "metadata": {},
     "output_type": "execute_result"
    }
   ],
   "source": [
    "teams['Heat'][0]"
   ]
  },
  {
   "cell_type": "code",
   "execution_count": 18,
   "id": "6235d1bb-a65e-4001-839a-e068c2851937",
   "metadata": {},
   "outputs": [],
   "source": [
    "for row in games_total.itertuples():\n",
    "    home_team = row.NAME_HOME\n",
    "    away_team = row.NAME_AWAY\n",
    "    home_win = row.HOME_TEAM_WINS\n",
    "    if home_win == 1:\n",
    "        teams[home_team] = (teams[home_team][0]+1,teams[home_team][1]+1)\n",
    "        teams[away_team] = (teams[away_team][0],teams[away_team][1]+1)\n",
    "    else:\n",
    "        teams[home_team] = (teams[home_team][0],teams[home_team][1]+1)\n",
    "        teams[away_team] = (teams[away_team][0]+1,teams[away_team][1]+1)"
   ]
  },
  {
   "cell_type": "code",
   "execution_count": 19,
   "id": "eee30bfb-2d7d-4249-8270-c0737463bcf0",
   "metadata": {},
   "outputs": [
    {
     "data": {
      "text/plain": [
       "{'Raptors': (847, 1627),\n",
       " 'Spurs': (1101, 1722),\n",
       " 'Rockets': (935, 1651),\n",
       " 'Trail Blazers': (805, 1615),\n",
       " 'Mavericks': (945, 1659),\n",
       " 'Timberwolves': (584, 1530),\n",
       " 'Grizzlies': (797, 1614),\n",
       " 'Bulls': (840, 1625),\n",
       " 'Lakers': (860, 1673),\n",
       " 'Hornets': (622, 1551),\n",
       " 'Cavaliers': (858, 1672),\n",
       " 'Nets': (694, 1601),\n",
       " 'Kings': (609, 1549),\n",
       " 'Wizards': (706, 1604),\n",
       " 'Heat': (985, 1728),\n",
       " 'Warriors': (942, 1660),\n",
       " 'Bucks': (772, 1620),\n",
       " 'Jazz': (880, 1626),\n",
       " 'Suns': (849, 1621),\n",
       " '76ers': (725, 1600),\n",
       " 'Thunder': (869, 1647),\n",
       " 'Hawks': (774, 1640),\n",
       " 'Magic': (738, 1609),\n",
       " 'Knicks': (616, 1543),\n",
       " 'Clippers': (862, 1640),\n",
       " 'Pelicans': (711, 1572),\n",
       " 'Pacers': (831, 1637),\n",
       " 'Pistons': (764, 1622),\n",
       " 'Celtics': (971, 1720),\n",
       " 'Nuggets': (919, 1644)}"
      ]
     },
     "execution_count": 19,
     "metadata": {},
     "output_type": "execute_result"
    }
   ],
   "source": [
    "teams"
   ]
  },
  {
   "cell_type": "code",
   "execution_count": 22,
   "id": "d10608d9-f2ed-4228-993c-04a0c5585697",
   "metadata": {},
   "outputs": [],
   "source": [
    "winrate = {}\n",
    "for k,v in teams.items():\n",
    "    winrate[k] = v[0]/v[1]"
   ]
  },
  {
   "cell_type": "code",
   "execution_count": 32,
   "id": "412c56cf-675e-46a4-9a33-ba89f7821176",
   "metadata": {},
   "outputs": [],
   "source": [
    "\n",
    "D = {k: v for k, v in sorted(winrate.items(),reverse = False, key=lambda item: item[1])}"
   ]
  },
  {
   "cell_type": "code",
   "execution_count": 64,
   "id": "58cdccfc-ca07-4b59-bea7-959344aa30d9",
   "metadata": {},
   "outputs": [
    {
     "data": {
      "text/plain": [
       "([<matplotlib.axis.YTick at 0x1e482f6f100>,\n",
       "  <matplotlib.axis.YTick at 0x1e482f67940>,\n",
       "  <matplotlib.axis.YTick at 0x1e482f627f0>,\n",
       "  <matplotlib.axis.YTick at 0x1e482fd0b20>,\n",
       "  <matplotlib.axis.YTick at 0x1e482fd92b0>,\n",
       "  <matplotlib.axis.YTick at 0x1e482fd9a00>,\n",
       "  <matplotlib.axis.YTick at 0x1e482fd0850>,\n",
       "  <matplotlib.axis.YTick at 0x1e482fe1130>,\n",
       "  <matplotlib.axis.YTick at 0x1e482fe17c0>,\n",
       "  <matplotlib.axis.YTick at 0x1e482fe1f10>,\n",
       "  <matplotlib.axis.YTick at 0x1e482fe76a0>,\n",
       "  <matplotlib.axis.YTick at 0x1e482fe7df0>,\n",
       "  <matplotlib.axis.YTick at 0x1e482fe7e50>,\n",
       "  <matplotlib.axis.YTick at 0x1e482fe1ac0>,\n",
       "  <matplotlib.axis.YTick at 0x1e482fee4f0>,\n",
       "  <matplotlib.axis.YTick at 0x1e482feebb0>,\n",
       "  <matplotlib.axis.YTick at 0x1e482ff5340>,\n",
       "  <matplotlib.axis.YTick at 0x1e482ff5a90>,\n",
       "  <matplotlib.axis.YTick at 0x1e482ffb220>,\n",
       "  <matplotlib.axis.YTick at 0x1e482ff5730>,\n",
       "  <matplotlib.axis.YTick at 0x1e482fd0d30>,\n",
       "  <matplotlib.axis.YTick at 0x1e482ffb730>,\n",
       "  <matplotlib.axis.YTick at 0x1e482ffbe80>,\n",
       "  <matplotlib.axis.YTick at 0x1e483003610>,\n",
       "  <matplotlib.axis.YTick at 0x1e483003d60>,\n",
       "  <matplotlib.axis.YTick at 0x1e483003dc0>,\n",
       "  <matplotlib.axis.YTick at 0x1e482ffbb80>,\n",
       "  <matplotlib.axis.YTick at 0x1e482feefd0>,\n",
       "  <matplotlib.axis.YTick at 0x1e483009a90>,\n",
       "  <matplotlib.axis.YTick at 0x1e483012220>],\n",
       " [Text(0, 0, 'Timberwolves'),\n",
       "  Text(0, 1, 'Kings'),\n",
       "  Text(0, 2, 'Knicks'),\n",
       "  Text(0, 3, 'Hornets'),\n",
       "  Text(0, 4, 'Nets'),\n",
       "  Text(0, 5, 'Wizards'),\n",
       "  Text(0, 6, 'Pelicans'),\n",
       "  Text(0, 7, '76ers'),\n",
       "  Text(0, 8, 'Magic'),\n",
       "  Text(0, 9, 'Pistons'),\n",
       "  Text(0, 10, 'Hawks'),\n",
       "  Text(0, 11, 'Bucks'),\n",
       "  Text(0, 12, 'Grizzlies'),\n",
       "  Text(0, 13, 'Trail Blazers'),\n",
       "  Text(0, 14, 'Pacers'),\n",
       "  Text(0, 15, 'Cavaliers'),\n",
       "  Text(0, 16, 'Lakers'),\n",
       "  Text(0, 17, 'Bulls'),\n",
       "  Text(0, 18, 'Raptors'),\n",
       "  Text(0, 19, 'Suns'),\n",
       "  Text(0, 20, 'Clippers'),\n",
       "  Text(0, 21, 'Thunder'),\n",
       "  Text(0, 22, 'Jazz'),\n",
       "  Text(0, 23, 'Nuggets'),\n",
       "  Text(0, 24, 'Celtics'),\n",
       "  Text(0, 25, 'Rockets'),\n",
       "  Text(0, 26, 'Warriors'),\n",
       "  Text(0, 27, 'Mavericks'),\n",
       "  Text(0, 28, 'Heat'),\n",
       "  Text(0, 29, 'Spurs')])"
      ]
     },
     "execution_count": 64,
     "metadata": {},
     "output_type": "execute_result"
    },
    {
     "data": {
      "image/png": "[encoded data removed]",
      "text/plain": [
       "<Figure size 1000x1000 with 1 Axes>"
      ]
     },
     "metadata": {
      "needs_background": "light"
     },
     "output_type": "display_data"
    }
   ],
   "source": [
    "import matplotlib.pyplot as plt\n",
    "from matplotlib.pyplot import figure\n",
    "\n",
    "fig = figure(figsize=(10, 10),dpi = 100)\n",
    "plt.xticks(fontsize=14)\n",
    "plt.barh(range(len(D)), list(D.values()), align='center')\n",
    "plt.yticks(range(len(D)), list(D.keys()))"
   ]
  },
  {
   "cell_type": "code",
   "execution_count": 65,
   "id": "4e76b9c3-4341-4ad8-a0a2-92a8109d2811",
   "metadata": {},
   "outputs": [],
   "source": [
    "\n",
    "plt.show()\n",
    "fig.savefig('winrate.png')"
   ]
  },
  {
   "cell_type": "code",
   "execution_count": null,
   "id": "9a74d6bb-22f7-46f6-bfb2-3fa6a5dd90c2",
   "metadata": {},
   "outputs": [],
   "source": []
  },
  {
   "cell_type": "code",
   "execution_count": 75,
   "id": "d11697b6-656f-4841-9b8a-4a4be4fc9361",
   "metadata": {},
   "outputs": [],
   "source": [
    "\n",
    "def win_rate(games):\n",
    "    all_games = 0 \n",
    "    home_win = 0\n",
    "    for row in games.itertuples():\n",
    "        all_games += 1\n",
    "        if row.HOME_TEAM_WINS == 1:\n",
    "            home_win += 1\n",
    "    print(home_win,\"&\",all_games,\"&\",round(home_win/all_games,4))\n",
    "    return home_win/all_games"
   ]
  },
  {
   "cell_type": "code",
   "execution_count": 76,
   "id": "9a31ff65-5457-43b1-8145-79c242614c67",
   "metadata": {},
   "outputs": [
    {
     "name": "stdout",
     "output_type": "stream",
     "text": [
      "14355 & 24411 & 0.5881\n"
     ]
    },
    {
     "data": {
      "text/plain": [
       "0.5880545655647045"
      ]
     },
     "execution_count": 76,
     "metadata": {},
     "output_type": "execute_result"
    }
   ],
   "source": [
    "win_rate(games_total)"
   ]
  },
  {
   "cell_type": "code",
   "execution_count": 77,
   "id": "b36c1ef8-89f1-4289-915e-88b680490b40",
   "metadata": {},
   "outputs": [
    {
     "data": {
      "text/plain": [
       "10.99"
      ]
     },
     "execution_count": 77,
     "metadata": {},
     "output_type": "execute_result"
    }
   ],
   "source": [
    "round(10.987,2)"
   ]
  },
  {
   "cell_type": "code",
   "execution_count": 78,
   "id": "f1008fb3-7e9b-433d-ba81-13e4b7dfc54c",
   "metadata": {},
   "outputs": [
    {
     "name": "stdout",
     "output_type": "stream",
     "text": [
      "2004\n",
      "824 & 1362 & 0.605\n",
      "2005\n",
      "866 & 1432 & 0.6047\n",
      "2006\n",
      "839 & 1419 & 0.5913\n",
      "2007\n",
      "862 & 1411 & 0.6109\n",
      "2008\n",
      "857 & 1425 & 0.6014\n",
      "2009\n",
      "857 & 1424 & 0.6018\n",
      "2010\n",
      "871 & 1422 & 0.6125\n",
      "2011\n",
      "656 & 1104 & 0.5942\n",
      "2012\n",
      "872 & 1420 & 0.6141\n",
      "2013\n",
      "819 & 1427 & 0.5739\n",
      "2014\n",
      "816 & 1418 & 0.5755\n",
      "2015\n",
      "841 & 1416 & 0.5939\n",
      "2016\n",
      "816 & 1405 & 0.5808\n",
      "2017\n",
      "805 & 1382 & 0.5825\n",
      "2018\n",
      "810 & 1378 & 0.5878\n",
      "2019\n",
      "666 & 1241 & 0.5367\n",
      "2020\n",
      "681 & 1249 & 0.5452\n"
     ]
    }
   ],
   "source": [
    "for season in range(2004,2021):\n",
    "    g = games_total[games_total['SEASON'] == season]\n",
    "    print(season)\n",
    "    win_rate(g)"
   ]
  },
  {
   "cell_type": "code",
   "execution_count": null,
   "id": "22327182-a7ad-4642-ad36-6e5d6de14fbd",
   "metadata": {},
   "outputs": [],
   "source": []
  }
 ],
 "metadata": {
  "kernelspec": {
   "display_name": "Python 3 (ipykernel)",
   "language": "python",
   "name": "python3"
  },
  "language_info": {
   "codemirror_mode": {
    "name": "ipython",
    "version": 3
   },
   "file_extension": ".py",
   "mimetype": "text/x-python",
   "name": "python",
   "nbconvert_exporter": "python",
   "pygments_lexer": "ipython3",
   "version": "3.9.7"
  }
 },
 "nbformat": 4,
 "nbformat_minor": 5
}
